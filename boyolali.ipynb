{
 "metadata": {
  "language_info": {
   "codemirror_mode": {
    "name": "ipython",
    "version": 3
   },
   "file_extension": ".py",
   "mimetype": "text/x-python",
   "name": "python",
   "nbconvert_exporter": "python",
   "pygments_lexer": "ipython3",
   "version": "3.6.8-final"
  },
  "orig_nbformat": 2,
  "kernelspec": {
   "name": "python3",
   "display_name": "Python 3.6.8 64-bit",
   "metadata": {
    "interpreter": {
     "hash": "30295c5bec572e859485b1ffa5e89b8b3e2022ef6e3e739c1ac40f143a557caf"
    }
   }
  }
 },
 "nbformat": 4,
 "nbformat_minor": 2,
 "cells": [
  {
   "cell_type": "code",
   "execution_count": 1,
   "metadata": {},
   "outputs": [
    {
     "output_type": "execute_result",
     "data": {
      "text/plain": [
       "'3.6.8'"
      ]
     },
     "metadata": {},
     "execution_count": 1
    }
   ],
   "source": [
    "# Settings for notebook\n",
    "from IPython.core.interactiveshell import InteractiveShell\n",
    "InteractiveShell.ast_node_interactivity = \"all\"\n",
    "# Show Python version\n",
    "import platform\n",
    "platform.python_version()\n"
   ]
  },
  {
   "cell_type": "code",
   "execution_count": 2,
   "metadata": {},
   "outputs": [],
   "source": [
    "try:\n",
    "    import scrapy\n",
    "except:\n",
    "    !pip3 install scrapy\n",
    "    import scrapy\n",
    "from scrapy.crawler import CrawlerProcess\n",
    "from datetime import datetime\n",
    "# import json\n",
    "# import logging"
   ]
  },
  {
   "cell_type": "code",
   "execution_count": 3,
   "metadata": {},
   "outputs": [],
   "source": [
    "# class JsonWriterPipeline(object):\n",
    "\n",
    "#     def open_spider(self, spider):\n",
    "#         self.file = open('boyolali.jl', 'w')\n",
    "    \n",
    "#     def close_spider(self, spider):\n",
    "#         self.file.close()\n",
    "    \n",
    "#     def process_item(self, item, spider):\n",
    "#         line = json.dumps(dict(item)) + \"\\n\"\n",
    "#         self.file.write(line)\n",
    "#         return line"
   ]
  },
  {
   "cell_type": "code",
   "execution_count": 4,
   "metadata": {},
   "outputs": [
    {
     "output_type": "error",
     "ename": "NameError",
     "evalue": "name 'logging' is not defined",
     "traceback": [
      "\u001b[0;31m---------------------------------------------------------------------------\u001b[0m",
      "\u001b[0;31mNameError\u001b[0m                                 Traceback (most recent call last)",
      "\u001b[0;32m<ipython-input-4-98ea2bfd7b3d>\u001b[0m in \u001b[0;36m<module>\u001b[0;34m\u001b[0m\n\u001b[0;32m----> 1\u001b[0;31m \u001b[0;32mclass\u001b[0m \u001b[0mBoyolaliSpider\u001b[0m\u001b[0;34m(\u001b[0m\u001b[0mscrapy\u001b[0m\u001b[0;34m.\u001b[0m\u001b[0mSpider\u001b[0m\u001b[0;34m)\u001b[0m\u001b[0;34m:\u001b[0m\u001b[0;34m\u001b[0m\u001b[0;34m\u001b[0m\u001b[0m\n\u001b[0m\u001b[1;32m      2\u001b[0m     \u001b[0mname\u001b[0m \u001b[0;34m=\u001b[0m \u001b[0;34m'boyolali'\u001b[0m\u001b[0;34m\u001b[0m\u001b[0;34m\u001b[0m\u001b[0m\n\u001b[1;32m      3\u001b[0m     start_urls = [\n\u001b[1;32m      4\u001b[0m         \u001b[0;34m'https://covid19.boyolali.go.id/'\u001b[0m\u001b[0;34m\u001b[0m\u001b[0;34m\u001b[0m\u001b[0m\n\u001b[1;32m      5\u001b[0m     ]\n",
      "\u001b[0;32m<ipython-input-4-98ea2bfd7b3d>\u001b[0m in \u001b[0;36mBoyolaliSpider\u001b[0;34m()\u001b[0m\n\u001b[1;32m      7\u001b[0m     \u001b[0;31m# custom_settings = {'DOWNLOAD_DELAY': 1}\u001b[0m\u001b[0;34m\u001b[0m\u001b[0;34m\u001b[0m\u001b[0;34m\u001b[0m\u001b[0m\n\u001b[1;32m      8\u001b[0m     custom_settings = {\n\u001b[0;32m----> 9\u001b[0;31m          \u001b[0;34m'LOG_LEVEL'\u001b[0m\u001b[0;34m:\u001b[0m \u001b[0mlogging\u001b[0m\u001b[0;34m.\u001b[0m\u001b[0mWARNING\u001b[0m\u001b[0;34m,\u001b[0m\u001b[0;34m\u001b[0m\u001b[0;34m\u001b[0m\u001b[0m\n\u001b[0m\u001b[1;32m     10\u001b[0m         \u001b[0;34m'ITEM_PIPELINES'\u001b[0m\u001b[0;34m:\u001b[0m \u001b[0;34m{\u001b[0m\u001b[0;34m'__main__.JsonWriterPipeline'\u001b[0m\u001b[0;34m:\u001b[0m \u001b[0;36m1\u001b[0m\u001b[0;34m}\u001b[0m\u001b[0;34m,\u001b[0m\u001b[0;34m\u001b[0m\u001b[0;34m\u001b[0m\u001b[0m\n\u001b[1;32m     11\u001b[0m         \u001b[0;34m'FEED_FORMAT'\u001b[0m\u001b[0;34m:\u001b[0m \u001b[0;34m'csv'\u001b[0m\u001b[0;34m,\u001b[0m\u001b[0;34m\u001b[0m\u001b[0;34m\u001b[0m\u001b[0m\n",
      "\u001b[0;31mNameError\u001b[0m: name 'logging' is not defined"
     ]
    }
   ],
   "source": [
    "class BoyolaliSpider(scrapy.Spider):\n",
    "    name = 'boyolali'\n",
    "    start_urls = [\n",
    "        'https://covid19.boyolali.go.id/'\n",
    "    ]\n",
    "    \n",
    "    # custom_settings = {'DOWNLOAD_DELAY': 1}\n",
    "    custom_settings = {\n",
    "        #  'LOG_LEVEL': logging.WARNING,\n",
    "        # 'ITEM_PIPELINES': {'__main__.JsonWriterPipeline': 1},\n",
    "        'FEED_FORMAT': 'csv',\n",
    "        'FEED_URI': 'boyolali.csv'\n",
    "    }\n",
    "\n",
    "    def parse(self, response):\n",
    "        scrape_date=datetime.now().strftime(\"%Y-%m-%d\")\n",
    "        types = 'kabupaten'\n",
    "        user_pic = 'Alfie Qashwa'\n",
    "        crawl_date = response.xpath(\n",
    "            '//*[@id=\"why-us\"]/div[1]/header/p/text()').extract_first().split()[5]\n",
    "        year = crawl_date[-4:]\n",
    "        month = crawl_date[3:5]\n",
    "        day = crawl_date[:2]\n",
    "        date_update = year + '-' + month + '-' + day\n",
    "        provinsi = 'Jawa Tengah'\n",
    "        kabkot = 'Boyolali'\n",
    "        kecamatan = ''\n",
    "        kelurahan = ''\n",
    "        alamat = ''\n",
    "        total_odp = response.xpath(\n",
    "            '//*[@id=\"why-us\"]/div[2]/div/div[2]/div/span/text()').extract_first()\n",
    "        total_pdp = response.xpath(\n",
    "            '//*[@id=\"why-us\"]/div[2]/div/div[4]/div[1]/span/text()').extract_first()\n",
    "        total_positif = response.xpath(\n",
    "            '//*[@id=\"why-us\"]/div[2]/div/div[1]/div[1]/div[1]/div/span/text()').extract_first()\n",
    "        positif_sembuh = response.xpath(\n",
    "            '//*[@id=\"why-us\"]/div[2]/div/div[1]/div[1]/div[2]/div[3]/span/text()').extract_first()\n",
    "        positif_dirawat = response.xpath(\n",
    "            '//*[@id=\"why-us\"]/div[2]/div/div[1]/div[1]/div[2]/div[1]/span/text()').extract_first()\n",
    "        positif_isolasi = response.xpath(\n",
    "            '//*[@id=\"why-us\"]/div[2]/div/div[1]/div[1]/div[2]/div[2]/span/text()').extract_first()\n",
    "        positif_meninggal = response.xpath(\n",
    "            '//*[@id=\"why-us\"]/div[2]/div/div[1]/div[1]/div[2]/div[4]/span/text()').extract_first()\n",
    "        total_otg = ''\n",
    "        odr_total = response.xpath(\n",
    "            '//*[@id=\"why-us\"]/div[2]/div/div[5]/div[1]/span/text()').extract_first()\n",
    "        total_pp = ''\n",
    "        total_ppdt = ''\n",
    "        source_link = 'https://covid19.boyolali.go.id/'\n",
    "\n",
    "        yield {\n",
    "            'scrape_date': scrape_date,\n",
    "            'types': types,\n",
    "            'user_pic': user_pic,\n",
    "            'date_update': date_update,\n",
    "            'provinsi': provinsi,\n",
    "            'kabkot': kabkot,\n",
    "            'kecamatan': kecamatan,\n",
    "            'kelurahan': kelurahan,\n",
    "            'alamat': alamat,\n",
    "            'total_odp': total_odp,\n",
    "            'total_pdp': total_pdp,\n",
    "            'total_positif': total_positif,\n",
    "            'positif_sembuh': positif_sembuh,\n",
    "            'positif_dirawat': positif_dirawat,\n",
    "            'positif_isolasi': positif_isolasi,\n",
    "            'positif_meninggal': positif_meninggal,\n",
    "            'total_otg': total_otg,\n",
    "            'odr_total': odr_total,\n",
    "            'total_pp': total_pp,\n",
    "            'total_ppdt': total_ppdt,\n",
    "            'source_link': source_link,\n",
    "        }\n",
    "if __name__ == \"__main__\":\n",
    "    process = CrawlerProcess({\n",
    "        'USER_AGENT': 'Mozilla/4.0 (compatible; MSIE 7.0; Windows NT 5.1)'\n",
    "    })\n",
    "    process.crawl(BoyolaliSpider)\n",
    "    process.start()"
   ]
  },
  {
   "cell_type": "code",
   "execution_count": null,
   "metadata": {},
   "outputs": [],
   "source": [
    "ll boyolali.*"
   ]
  },
  {
   "cell_type": "code",
   "execution_count": null,
   "metadata": {},
   "outputs": [],
   "source": [
    "import pandas as pd\n",
    "from sqlalchemy import create_engine\n",
    "\n",
    "df = pd.read_csv('boyolali.csv', error_bad_lines=False)\n",
    "df\n",
    "\n",
    "# Not sure yet\n",
    "\n",
    "# engine = create_engine('mysql+pymysql://covid_userblablablabla234@db-blabla:3306/covid')\n",
    "# df.to_sql(name='covid19_data', con=engine, if_exists='append', index=False)"
   ]
  }
 ]
}